{
 "cells": [
  {
   "cell_type": "markdown",
   "id": "d2c0b2ef",
   "metadata": {},
   "source": [
    "## Chapter 5: Excercise 5.8\n",
    "\n",
    "\n",
    "In the appendix to this chapter we show how the smoothing spline computations could be more efficiently carried out using a $(N + 4)$ dimenisonal basis of B-spline. Describe a slightly simpler scheem using a $(N+2)$ dimensional B-spline basis defined on the N-2 interior knots\n",
    "\n",
    "\n",
    "#### Solution\n",
    "\n",
    "By excercise 5.7 we found that the function that solves the minimization problem of the penalized residual sum of squares is natural cubic spline with knots at ever $x_i$ defined for $i = 1, 2, \\dots N$ and two boundary knots $a, b$ where the second derivative for $x <= a$ and $x >= b$ is zero. The natural cubic spline is a cubic spline for $x \\in [x_1, x_N]$ so any other spline that has the same curvature in this set, is a minimizer of the RSS.\n",
    "\n",
    "In the appendix, it is proposed to use a B-spline with $N+4$ knots. B-splines uses an augmented knots defined as $\\tau_0, \\tau_1, x_1, x_2, \\dots x_N, \\tau_{N+1}, \\tau_{N+2}$. Minimizing the penalized residual sum of squares using $f_b$ will yield the same result as using a natural cubic spline as the penalization term $\\gamma$ imposes constraints by giving infinite weight to any non zero derivatie beyond the boundary.\n",
    "\n",
    "\n",
    "Moreover, we can use less knots say $N+2$ definen an $\\tau_0, x_1, x_2, \\dots x_N, \\tau_{N+1}, \\tau_{N+1}$, and using a B-spline we can reconstruct the natural cubic spline for $x \\in [x_1, x_N]$"
   ]
  }
 ],
 "metadata": {
  "kernelspec": {
   "display_name": "JC",
   "language": "python",
   "name": "universidad"
  },
  "language_info": {
   "codemirror_mode": {
    "name": "ipython",
    "version": 3
   },
   "file_extension": ".py",
   "mimetype": "text/x-python",
   "name": "python",
   "nbconvert_exporter": "python",
   "pygments_lexer": "ipython3",
   "version": "3.9.1"
  }
 },
 "nbformat": 4,
 "nbformat_minor": 5
}
