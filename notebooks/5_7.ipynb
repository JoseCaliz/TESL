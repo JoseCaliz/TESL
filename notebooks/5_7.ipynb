{
 "cells": [
  {
   "cell_type": "markdown",
   "id": "d37f98b6",
   "metadata": {},
   "source": [
    "## Chapter 5: Excercise 5.7\n",
    "\n",
    "_Derivation of smoothing splines_ (Green and Silverman, 1994). Suppose that $N \\ge 2$, and that $g$ is the natural cubic spline interpolant to the pairs $\\left\\{x_i, z_i\\right\\}^{N}_{1}$, with $a < x_1 < \\dots < x_N < b$. This is a natural spline with a knot at every $x_i$; being an $N$-dimensional space of functions, we can determine the coefficients such that it interpolates the sequence $z_i$ exactly. Let $\\tilde{g}$ be any other differentiable funciotn on $[a, b]$ that interpolates the $N$ pairs.\n",
    "\n",
    " 1. Let $h(x) = \\tilde{g}(x) - g(x)$. Use Integration by parts and the fact that $g$ is a natural cubic spline to show that:\n",
    "\n",
    "$$\n",
    "\\int_{a}^{b} g^{''}(x) h^{''}(x) dx = - \\sum_{j=1}^{N-1} g^{'''}(x^{+}_j) \\left \\{h(x_{j+1}) - h(x_j)\\right\\}\n",
    "$$\n",
    "\n",
    "\n",
    "  2. Hence show that\n",
    "  \n",
    "$$\n",
    "\\int_{a}^{b} \\tilde{g}^{''}(t)^2 dt \\ge \\int_{a}^{b} g^{''}(t)^2 dt\n",
    "$$\n",
    "\n",
    "  3. Consider the penalized least squares problem\n",
    "  \n",
    "$$\n",
    "\\min_{f} \\left [ \\sum_{i=1}^{N} \\left( y_i - f(x_i) \\right)^{2} - \\lambda \\int_{a}^{b} f^{''}(t)^2 dt\\right]\n",
    "$$\n",
    "\n",
    "Use 2. to argue that the minimizer must bu a cubic spline with knots at each ot the $x_{i}$\n",
    "\n",
    "---"
   ]
  },
  {
   "cell_type": "markdown",
   "id": "b2f7fde5",
   "metadata": {},
   "source": [
    "### Part 1\n",
    "\n",
    "Since $g$ is defined by knots, we need rewrite the integral. For simplicity let's say $x_0 = a$ and $x_{N+1} = b$\n",
    "\n",
    "\\begin{align}\n",
    "\\int_{a}^{b} g^{''}(x) h^{''}(x) dx & =   g^{''}(x) h^{'}(x) \\Big\\vert_{a}^{b}  - \\int_{a}^{b} h^{'}(x) g^{'''}(x) dx\\\\\n",
    "& = \\sum_{j=0}^{N+1} - \\left[ g^{'''}(x) h(x) \\Big\\vert_{j}^{j+1} - \\int_{j}^{j+1} h(x) g^{''''}(x) dx \\right] \n",
    "\\end{align}\n",
    "\n",
    "The fourth derivative of $g$ is equal to zero, and $g^{'''}(x)$ is a piecewise constant that take value of $x_{j}^{+}$ when $x_j \\le x \\lt x$, and $g^{'''}(x) = 0$ for $x = a, b$ then:\n",
    "\n",
    "\\begin{align}\n",
    "\\int_{a}^{b} g^{''}(x) h^{''}(x) dx & = - \\sum_{j=1}^{N}  g^{'''}(x_{j}^+) \\left( h(x_{j+1}) - h(x_{j}) \\right) \\\\\n",
    "\\int_{a}^{b} g^{''}(x) h^{''}(x) dx & = 0\n",
    "\\end{align}\n",
    "\n",
    "---"
   ]
  },
  {
   "cell_type": "markdown",
   "id": "21a61792",
   "metadata": {},
   "source": [
    "### Part 2\n",
    "\n",
    "From part 1:\n",
    "\n",
    "\\begin{align}\n",
    "\\int_{a}^{b} g^{''}(x) h^{''}(x) dx & = 0\\\\\n",
    "\\int_{a}^{b} g^{''}(x) \\left(\\tilde{g}^{''}(x) -  g^{''}(x)\\right) dx & = 0\\\\\n",
    "\\int_{a}^{b} g^{''}(x) \\tilde{g}^{''}(x) dx & =\\int_{a}^{b} g^{''}(x)^2  dx\n",
    "\\end{align}\n",
    "\n",
    "We can use the previous result and:\n",
    "\n",
    "\\begin{align}\n",
    "\\int_{a}^{b} h^{''}(x)^2 dx & >= 0 \\\\\n",
    "\\int_{a}^{b} \\tilde{g}^{''}(x)^2 - 2 \\tilde{g}^{''}(x)g^{''}(x) + g^{''}(x)^2dx & >= 0  \\\\\n",
    "\\int_{a}^{b} \\tilde{g}^{''}(x)^2 dx & >= \\int_{a}^{b} 2 \\tilde{g}^{''}(x)g^{''}(x) - g^{''}(x)^2dx & >= 0  \\\\\n",
    "\\int_{a}^{b} \\tilde{g}^{''}(x)^2 dx & >= \\int_{a}^{b} g^{''}(x)^2dx \n",
    "\\end{align}"
   ]
  },
  {
   "cell_type": "markdown",
   "id": "4f4eae78",
   "metadata": {},
   "source": [
    "### Part 3\n",
    "\n",
    "\n",
    "The natural cubic splines that has knots on every $x_i$ minimizes the squared sums of resudials, and from part 2 proved that the natural cubic splines is the one with less curvature. In conclusion, this function minimizes the penalized residual sum of squares."
   ]
  }
 ],
 "metadata": {
  "kernelspec": {
   "display_name": "JC",
   "language": "python",
   "name": "universidad"
  },
  "language_info": {
   "codemirror_mode": {
    "name": "ipython",
    "version": 3
   },
   "file_extension": ".py",
   "mimetype": "text/x-python",
   "name": "python",
   "nbconvert_exporter": "python",
   "pygments_lexer": "ipython3",
   "version": "3.9.1"
  }
 },
 "nbformat": 4,
 "nbformat_minor": 5
}
