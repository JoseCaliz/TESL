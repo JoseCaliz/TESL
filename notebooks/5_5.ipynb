{
 "cells": [
  {
   "cell_type": "markdown",
   "id": "4e46e599",
   "metadata": {},
   "source": [
    "## Chapter 5: Excercise 5.5\n",
    "\n",
    "Write a program to classify the `phoneme` data using a quadratic discriminal analysis (section 4.3). Since there are many correlated features, you should filter them using a smooth basis of natural cubic splines (Section 5.2.3). Decide beforehand on a series of five different choices for the number and position of the knots, and use tenflod cross-validation to make the final selection. The `phoneme` data are avairable from the book website `www-stat.stanford.edu/ElemStatLearn`.\n",
    "\n",
    "Beforehand the five way to assign the knots are:\n",
    "\n",
    "  1. 12 knots equally spaced between 1 and 256 (not inclusive).\n",
    "  2. 9 knots placed on quantiles $(0.1, \\dots, 0.9)$\n",
    "  3. 20 knots equally for quintiles. $(0.5, 0.1, \\dots, 0.95)$\n",
    "  4. 10 knots equally spaced for frequencies below 128 and 5 knots equally spaced after\n",
    "  5. Two boundary knots at 0.05 and 0.95 quantiles and 20 knots equally spaced in between"
   ]
  },
  {
   "cell_type": "code",
   "execution_count": 622,
   "id": "29ce7243",
   "metadata": {},
   "outputs": [],
   "source": [
    "import pandas as pd\n",
    "import functions_section_5 as fs5\n",
    "import sklearn.metrics as skm\n",
    "from sklearn.model_selection import GridSearchCV\n",
    "from sklearn.model_selection import train_test_split\n",
    "from sklearn.pipeline import Pipeline\n",
    "from sklearn.discriminant_analysis import QuadraticDiscriminantAnalysis\n",
    "from importlib import reload\n",
    "from sklearn.preprocessing import LabelEncoder, FunctionTransformer"
   ]
  },
  {
   "cell_type": "code",
   "execution_count": 526,
   "id": "648955e0",
   "metadata": {},
   "outputs": [],
   "source": [
    "phoneme_data = pd.read_csv(\n",
    "    'https://web.stanford.edu/~hastie/ElemStatLearn/datasets/phoneme.data',\n",
    "    index_col=0\n",
    ")\n",
    "\n",
    "phoneme_data['set'] = phoneme_data.speaker.str.split('.', expand=True)[0]\n",
    "df_train = phoneme_data.query('set == \"train\"')\n",
    "df_test = phoneme_data.query('set == \"test\"')\n",
    "phoneme_data = phoneme_data.drop(columns=['set'])\n",
    "\n",
    "X_train, y_train = (\n",
    "    train.iloc[:, :p].to_numpy(),\n",
    "    train['g'].to_numpy()\n",
    ")\n",
    "\n",
    "X_test, y_test =(\n",
    "    test.iloc[:, :p].to_numpy(),\n",
    "    test.loc[:, 'g'].to_numpy()\n",
    ")"
   ]
  },
  {
   "cell_type": "markdown",
   "id": "9e43dda1",
   "metadata": {},
   "source": [
    "## QDA implementation\n",
    "\n",
    "\n",
    "The quadradict discriminat function is defined as (eq (4.12), page 110):\n",
    "\n",
    "$$\n",
    "\\delta_k(x) = -\\frac{1}{2} \\text{log} \\left|\\Sigma_k \\right| - \\frac{1}{2} \\left(x - \\mu_k\\right)^{T} \\Sigma^{-1} \\left(x - \\mu_k \\right) + \\text{log}\\pi_k\n",
    "$$\n",
    "\n",
    "And $G(x) = \\text{argmax}_{k} \\delta_{k}(X)$"
   ]
  },
  {
   "cell_type": "code",
   "execution_count": 623,
   "id": "dc616c12",
   "metadata": {},
   "outputs": [
    {
     "name": "stdout",
     "output_type": "stream",
     "text": [
      "Train Accuracy: 1.00\n",
      "Test Accuracy: 0.84\n"
     ]
    }
   ],
   "source": [
    "qda_classifer_raw = QuadraticDiscriminantAnalysis()\n",
    "qda_classifer_raw.fit(X_train, y_train)\n",
    "y_pred_train_raw = qda_classifer_raw.predict(X_train)\n",
    "y_pred_test_raw = qda_classifer_raw.predict(X_test)\n",
    "\n",
    "print('Train Accuracy: {:.2f}'.format(\n",
    "    skm.accuracy_score(y_train, y_pred_train\n",
    ")))\n",
    "\n",
    "print('Test Accuracy: {:.2f}'.format(\n",
    "    skm.accuracy_score(y_test, y_pred_test\n",
    ")))"
   ]
  },
  {
   "cell_type": "markdown",
   "id": "3ba3f0c6",
   "metadata": {},
   "source": [
    "There are strong evidence of overfitting as the accuracy of train is 100% and test is only 84%. This is using only a simple stratified `train_test_split`"
   ]
  },
  {
   "cell_type": "markdown",
   "id": "b0459261",
   "metadata": {},
   "source": [
    "## Generating Knots and Natural Cubic Base"
   ]
  },
  {
   "cell_type": "code",
   "execution_count": 670,
   "id": "556f65d8",
   "metadata": {},
   "outputs": [],
   "source": [
    "frequencies = np.arange(1, 257)\n",
    "frequencies_below = np.arange(1, 129, 1)\n",
    "\n",
    "percentile_5 = np.quantile(frequencies, 0.05)\n",
    "percentile_95 = np.quantile(frequencies, 0.95)\n",
    "\n",
    "knots = [\n",
    "    np.linspace(1, 256, 13, endpoint=False)[1:],\n",
    "    np.quantile(frequencies, np.arange(0.1, 1, 0.1)),\n",
    "    np.quantile(frequencies, np.arange(0.05, 1, 0.05)),\n",
    "    np.concatenate([\n",
    "        np.linspace(1, 128, 11)[1:],\n",
    "        np.linspace(128, 256, 5, endpoint=False)[1:]\n",
    "    ]),\n",
    "    np.concatenate([\n",
    "        [percentile_5],\n",
    "        np.arange(percentile_5, percentile_95, 20)[1:],\n",
    "        [percentile_95],\n",
    "    ])\n",
    "]\n",
    "\n",
    "num_knots = [k.shape[0] for k in knots]\n",
    "\n",
    "knots = [x for _,x in sorted(zip(num_knots, knots))]\n",
    "num_knots.sort()\n",
    "\n",
    "def filter_strategy(knot_strategy):\n",
    "    cubic_spline = fs5.cubic_spline_base(knot_strategy)\n",
    "    frequencies = np.arange(1, 257)\n",
    "    H = cubic_spline.generate_basis_matrix(frequencies)\n",
    "    \n",
    "    def filter_X(X):\n",
    "        return X @ H\n",
    "    \n",
    "    return filter_X\n",
    "\n",
    "filters = [filter_strategy(knot_strategy) for knot_strategy in knots]"
   ]
  },
  {
   "cell_type": "markdown",
   "id": "0c22af27",
   "metadata": {},
   "source": [
    "## Training the Model"
   ]
  },
  {
   "cell_type": "code",
   "execution_count": 671,
   "id": "ed02688b",
   "metadata": {},
   "outputs": [],
   "source": [
    "estimators = [\n",
    "    ('filter', FunctionTransformer()),\n",
    "    ('qda',  QuadraticDiscriminantAnalysis())\n",
    "]\n",
    "\n",
    "param_grid = {'filter__func':filters}\n",
    "pipe = Pipeline(estimators)\n",
    "\n",
    "grid_search = GridSearchCV(\n",
    "    pipe,\n",
    "    param_grid,\n",
    "    scoring='accuracy',\n",
    "    cv=10,\n",
    "    return_train_score=True,\n",
    "    refit=True\n",
    ")\n",
    "\n",
    "grid_search.fit(X_train, y_train);"
   ]
  },
  {
   "cell_type": "markdown",
   "id": "ff3282cd",
   "metadata": {},
   "source": [
    "## Plotting Results"
   ]
  },
  {
   "cell_type": "code",
   "execution_count": 680,
   "id": "38ce5c37",
   "metadata": {},
   "outputs": [
    {
     "data": {
      "image/png": "[encoded data removed]",
      "text/plain": [
       "<Figure size 1152x648 with 1 Axes>"
      ]
     },
     "metadata": {
      "needs_background": "light"
     },
     "output_type": "display_data"
    }
   ],
   "source": [
    "# Initialise figure\n",
    "num_knots = [k.shape[0] for k in knots]\n",
    "fig, ax = plt.subplots(figsize=(16, 9))\n",
    "\n",
    "ax.plot(num_knots, 1-grid_search.cv_results_['mean_train_score'], label='Train Error')\n",
    "ax.plot(num_knots, 1-grid_search.cv_results_['mean_test_score'], label='CV Error')\n",
    "\n",
    "# Fig parameters\n",
    "ax.set_title('Training/Cross-Validation Error')\n",
    "ax.set_xlabel('Number of Knots')\n",
    "ax.set_ylabel('Error')\n",
    "\n",
    "ax.legend();"
   ]
  },
  {
   "cell_type": "code",
   "execution_count": 689,
   "id": "842ba47f",
   "metadata": {},
   "outputs": [
    {
     "name": "stdout",
     "output_type": "stream",
     "text": [
      "Regularized Model:\n",
      "Train Accuracy: 0.94\n",
      "Test Accuracy: 0.93\n",
      "\n",
      "Raw Model:\n",
      "Train Accuracy: 1.00\n",
      "Test Accuracy: 0.84\n"
     ]
    }
   ],
   "source": [
    "y_pred_train_best_model = grid_search.predict(X_train)\n",
    "y_pred_test_best_model = grid_search.predict(X_test)\n",
    "\n",
    "print('Regularized Model:')\n",
    "print('Train Accuracy: {:.2f}'.format(\n",
    "    skm.accuracy_score(y_train, y_pred_train_best_model)\n",
    "))\n",
    "\n",
    "print('Test Accuracy: {:.2f}'.format(\n",
    "    skm.accuracy_score(y_test, y_pred_test_best_model)\n",
    "))\n",
    "\n",
    "print('\\nRaw Model:')\n",
    "print('Train Accuracy: {:.2f}'.format(\n",
    "    skm.accuracy_score(y_train, y_pred_train\n",
    ")))\n",
    "\n",
    "print('Test Accuracy: {:.2f}'.format(\n",
    "    skm.accuracy_score(y_test, y_pred_test\n",
    ")))"
   ]
  },
  {
   "cell_type": "markdown",
   "id": "1493019b",
   "metadata": {},
   "source": [
    "---\n",
    "It is clear regularized  model is not overfitting the data"
   ]
  }
 ],
 "metadata": {
  "kernelspec": {
   "display_name": "JC",
   "language": "python",
   "name": "universidad"
  },
  "language_info": {
   "codemirror_mode": {
    "name": "ipython",
    "version": 3
   },
   "file_extension": ".py",
   "mimetype": "text/x-python",
   "name": "python",
   "nbconvert_exporter": "python",
   "pygments_lexer": "ipython3",
   "version": "3.9.1"
  }
 },
 "nbformat": 4,
 "nbformat_minor": 5
}
