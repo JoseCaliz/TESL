{
 "cells": [
  {
   "cell_type": "markdown",
   "id": "5c31c9d8",
   "metadata": {},
   "source": [
    "## Excersice 5.11\n",
    "\n",
    "Prove that for a smoothing spline the null space of $\\pmb{K}$ is spanned by funcitons linear in $X$\n",
    "\n",
    "\n",
    "### Solution:\n",
    "\n",
    "$\\pmb{K}$ is defined as $\\pmb{N}^{-T} \\Omega_N \\pmb{N}^{-1}$.\n",
    "\n",
    "Suppose that $u = (u_1, u_2, \\dots, u_N)$ is in the null-space of $\\pmb{K}$ there exists a $\\beta = (\\beta_1, \\beta_2, \\dots, \\beta_N)$ such that $\\pmb{N} \\beta = u$. Since $u$ is in the null-space of $\\pmb{K}$ then $\\pmb{K}u = \\pmb{K}\\pmb{N}\\beta = 0 \\rightarrow \\Omega_N \\beta = 0$\n",
    "\n",
    "\n",
    "And by definition the $j-th$ entry of $\\Omega_N \\beta$ is:\n",
    "\n",
    "\\begin{align}\n",
    "\\sum_{k=1}^{N} \\left( \\Omega_{ij} \\right)_{N} \\beta_k = \\int \\sum_{k=1}^{N} \\beta_k N^{''}_j(t)N^{''}_i(t) dt = \\int N^{''}_j(t)u^{''}(t) dt\n",
    "\\end{align}\n",
    "\n",
    "Which is zero for all $j$, therefore $\\int s^{''}(t) u^{''}(t) $ is zero for any cubic spline $s(t)$ in particular for $s(t) = u(t)$ implying that $u^{''}(t) = 0$ and given the fact that $u(t)$ is a cubic spline, this implies that is linear"
   ]
  }
 ],
 "metadata": {
  "kernelspec": {
   "display_name": "JC",
   "language": "python",
   "name": "universidad"
  },
  "language_info": {
   "codemirror_mode": {
    "name": "ipython",
    "version": 3
   },
   "file_extension": ".py",
   "mimetype": "text/x-python",
   "name": "python",
   "nbconvert_exporter": "python",
   "pygments_lexer": "ipython3",
   "version": "3.9.1"
  }
 },
 "nbformat": 4,
 "nbformat_minor": 5
}
