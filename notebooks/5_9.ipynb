{
 "cells": [
  {
   "cell_type": "markdown",
   "id": "9da4f401",
   "metadata": {},
   "source": [
    "## Chapter 5: Excercise 5.9\n",
    "\n",
    "\n",
    "Derive the Reinsch from $\\mathbf{S}_{\\lambda} = \\left( \\mathbf{I} + \\lambda \\mathbf{K}\\right)^{-1}$ for the smoothing spline.\n",
    "\n",
    "\n",
    "#### Solution:\n",
    "\n",
    "Assuming that $\\mathbf{N}$ is invertible, later will be proved:\n",
    "\n",
    "\\begin{align}\n",
    "\\mathbf{N} \\left(\\mathbf{N}^{T} \\mathbf{N} + \\lambda \\mathbf{\\Omega}_{N} \\right)^{-1} \\mathbf{N}^{T} & = \\mathbf{N} \\left(N^{T} \\left(\\mathbf{N} + \\lambda \\mathbf{N}^{-T}\\mathbf{\\Omega}_{N} \\right) \\right)^{-1} \\mathbf{N}^{T}  \\\\\n",
    "& = \\mathbf{N} \\left(\\mathbf{N}^{T} \\left(\\mathbf{I} + \\lambda \\mathbf{N}^{-T}\\mathbf{\\Omega}_{N} \\mathbf{N}^{-1}\\right) \\mathbf{N}\\right)^{-1} \\mathbf{N}^{T} \\\\\n",
    "& = \\mathbf{N} \\mathbf{N}^{-1} \\left(\\mathbf{I} + \\lambda \\mathbf{N}^{-T}\\mathbf{\\Omega}_{N} \\right)^{-1} \\mathbf{N}^{T-1} \\mathbf{N}^{T} \\\\\n",
    "& = \\left(\\mathbf{I} + \\lambda \\mathbf{K} \\right)^{-1}\n",
    "\\end{align}\n",
    "\n",
    "---"
   ]
  }
 ],
 "metadata": {
  "kernelspec": {
   "display_name": "JC",
   "language": "python",
   "name": "universidad"
  },
  "language_info": {
   "codemirror_mode": {
    "name": "ipython",
    "version": 3
   },
   "file_extension": ".py",
   "mimetype": "text/x-python",
   "name": "python",
   "nbconvert_exporter": "python",
   "pygments_lexer": "ipython3",
   "version": "3.9.1"
  }
 },
 "nbformat": 4,
 "nbformat_minor": 5
}
